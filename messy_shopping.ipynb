{
  "nbformat": 4,
  "nbformat_minor": 0,
  "metadata": {
    "colab": {
      "provenance": [],
      "authorship_tag": "ABX9TyN1G2Eq+rndlAe0GubBjfEo",
      "include_colab_link": true
    },
    "kernelspec": {
      "name": "python3",
      "display_name": "Python 3"
    },
    "language_info": {
      "name": "python"
    }
  },
  "cells": [
    {
      "cell_type": "markdown",
      "metadata": {
        "id": "view-in-github",
        "colab_type": "text"
      },
      "source": [
        "<a href=\"https://colab.research.google.com/github/Fu-kit/shopping-list-csc101-2500084/blob/main/messy_shopping.ipynb\" target=\"_parent\"><img src=\"https://colab.research.google.com/assets/colab-badge.svg\" alt=\"Open In Colab\"/></a>"
      ]
    },
    {
      "cell_type": "code",
      "execution_count": null,
      "metadata": {
        "id": "9ETR3aqcAK2y",
        "colab": {
          "base_uri": "https://localhost:8080/"
        },
        "outputId": "d637b48c-1dbe-4b9a-b176-b7377a0c4ad7"
      },
      "outputs": [
        {
          "output_type": "stream",
          "name": "stdout",
          "text": [
            "\n",
            "=== Shopping List Manager ===\n",
            "1. Add item\n",
            "2. View items\n",
            "3. Remove item\n",
            "4. Count items\n",
            "5. Exit\n"
          ]
        }
      ],
      "source": [
        "# --- Shopping List Manager (Messy / Beginner Style) ---\n",
        "\n",
        "# Storage for up to 5 items (empty = \"\")\n",
        "item1 = \"\"\n",
        "item2 = \"\"\n",
        "item3 = \"\"\n",
        "item4 = \"\"\n",
        "item5 = \"\"\n",
        "\n",
        "while True:\n",
        "    print(\"\\n=== Shopping List Manager ===\")\n",
        "    print(\"1. Add item\")\n",
        "    print(\"2. View items\")\n",
        "    print(\"3. Remove item\")\n",
        "    print(\"4. Count items\")\n",
        "    print(\"5. Exit\")\n",
        "\n",
        "    choice = input(\"Choose option: \")\n",
        "\n",
        "# Option 1. Add item\n",
        "    if choice == \"1\":\n",
        "        new_item = input(\"Enter item: \")\n",
        "        if item1 == \"\":\n",
        "            item1 = new_item\n",
        "        elif item2 == \"\":\n",
        "            item2 = new_item\n",
        "        elif item3 == \"\":\n",
        "            item3 = new_item\n",
        "        elif item4 == \"\":\n",
        "            item4 = new_item\n",
        "        elif item5 == \"\":\n",
        "            item5 = new_item\n",
        "        else:\n",
        "            print(\"List is full!\")\n",
        "        print(\"Item added!\")\n",
        "\n",
        "# Option 2. Show current items\n",
        "    elif choice == \"2\":\n",
        "        print(\"Current items:\", end=\" \")\n",
        "        if item1 != \"\":\n",
        "            print(item1, end=\" \")\n",
        "        if item2 != \"\":\n",
        "            print(item2, end=\" \")\n",
        "        if item3 != \"\":\n",
        "            print(item3, end=\" \")\n",
        "        if item4 != \"\":\n",
        "            print(item4, end=\" \")\n",
        "        if item5 != \"\":\n",
        "            print(item5, end=\" \")\n",
        "        print()\n",
        "\n",
        "# Option 3. Remove item\n",
        "    elif choice == \"3\":\n",
        "        remove_item = input(\"Enter item to remove: \")\n",
        "        if item1 == remove_item:\n",
        "            item1 = \"\"\n",
        "            print(\"Item removed!\")\n",
        "        elif item2 == remove_item:\n",
        "            item2 = \"\"\n",
        "            print(\"Item removed!\")\n",
        "        elif item3 == remove_item:\n",
        "            item3 = \"\"\n",
        "            print(\"Item removed!\")\n",
        "        elif item4 == remove_item:\n",
        "            item4 = \"\"\n",
        "            print(\"Item removed!\")\n",
        "        elif item5 == remove_item:\n",
        "            item5 = \"\"\n",
        "            print(\"Item removed!\")\n",
        "        else:\n",
        "            print(\"Item not found!\")\n",
        "\n",
        "# Option 4. Count items\n",
        "    elif choice == \"4\":\n",
        "        count = 0\n",
        "        if item1 != \"\":\n",
        "            count += 1\n",
        "        if item2 != \"\":\n",
        "            count += 1\n",
        "        if item3 != \"\":\n",
        "            count += 1\n",
        "        if item4 != \"\":\n",
        "            count += 1\n",
        "        if item5 != \"\":\n",
        "            count += 1\n",
        "        print(\"Total items:\", count)\n",
        "\n",
        "# Option 5. Exit\n",
        "    elif choice == \"5\":\n",
        "        print(\"Have a nice day!\")\n",
        "        break\n",
        "\n",
        "# Option choice is invalid\n",
        "    else:\n",
        "        print(\"Invalid choice. Try again.\")\n"
      ]
    }
  ]
}