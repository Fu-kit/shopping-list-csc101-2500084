{
  "nbformat": 4,
  "nbformat_minor": 0,
  "metadata": {
    "colab": {
      "provenance": [],
      "authorship_tag": "ABX9TyOh0B5dwRA26KLnCGL89co0",
      "include_colab_link": true
    },
    "kernelspec": {
      "name": "python3",
      "display_name": "Python 3"
    },
    "language_info": {
      "name": "python"
    }
  },
  "cells": [
    {
      "cell_type": "markdown",
      "metadata": {
        "id": "view-in-github",
        "colab_type": "text"
      },
      "source": [
        "<a href=\"https://colab.research.google.com/github/Fu-kit/shopping-list-csc101-2500084/blob/main/messy_shopping.ipynb\" target=\"_parent\"><img src=\"https://colab.research.google.com/assets/colab-badge.svg\" alt=\"Open In Colab\"/></a>"
      ]
    },
    {
      "cell_type": "code",
      "execution_count": null,
      "metadata": {
        "id": "9ETR3aqcAK2y"
      },
      "outputs": [],
      "source": [
        "# --- Shopping List Manager (Messy / Beginner Style) ---\n",
        "\n",
        "# Storage for up to 5 items (empty = \"\")\n",
        "item1 = \"\"\n",
        "item2 = \"\"\n",
        "item3 = \"\"\n",
        "item4 = \"\"\n",
        "item5 = \"\"\n",
        "\n",
        "while True:\n",
        "    print(\"\\n=== Shopping List Manager ===\")\n",
        "    print(\"1. Add item\")\n",
        "    print(\"2. View items\")\n",
        "    print(\"3. Remove item\")\n",
        "    print(\"4. Count items\")\n",
        "    print(\"5. Exit\")\n",
        "\n",
        "    choice = input(\"Choose option: \")\n",
        "\n",
        "    if choice == \"1\":\n",
        "        new_item = input(\"Enter item: \")\n",
        "        if item1 == \"\":\n",
        "            item1 = new_item\n",
        "        elif item2 == \"\":\n",
        "            item2 = new_item\n",
        "        elif item3 == \"\":\n",
        "            item3 = new_item\n",
        "        elif item4 == \"\":\n",
        "            item4 = new_item\n",
        "        elif item5 == \"\":\n",
        "            item5 = new_item\n",
        "        else:\n",
        "            print(\"List is full!\")\n",
        "        print(\"Item added!\")\n",
        "\n",
        "    elif choice == \"2\":\n",
        "        print(\"Current items:\", end=\" \")\n",
        "        if item1 != \"\":\n",
        "            print(item1, end=\" \")\n",
        "        if item2 != \"\":\n",
        "            print(item2, end=\" \")\n",
        "        if item3 != \"\":\n",
        "            print(item3, end=\" \")\n",
        "        if item4 != \"\":\n",
        "            print(item4, end=\" \")\n",
        "        if item5 != \"\":\n",
        "            print(item5, end=\" \")\n",
        "        print()\n",
        "\n",
        "    elif choice == \"3\":\n",
        "        remove_item = input(\"Enter item to remove: \")\n",
        "        if item1 == remove_item:\n",
        "            item1 = \"\"\n",
        "            print(\"Item removed!\")\n",
        "        elif item2 == remove_item:\n",
        "            item2 = \"\"\n",
        "            print(\"Item removed!\")\n",
        "        elif item3 == remove_item:\n",
        "            item3 = \"\"\n",
        "            print(\"Item removed!\")\n",
        "        elif item4 == remove_item:\n",
        "            item4 = \"\"\n",
        "            print(\"Item removed!\")\n",
        "        elif item5 == remove_item:\n",
        "            item5 = \"\"\n",
        "            print(\"Item removed!\")\n",
        "        else:\n",
        "            print(\"Item not found!\")\n",
        "\n",
        "    elif choice == \"4\":\n",
        "        count = 0\n",
        "        if item1 != \"\":\n",
        "            count += 1\n",
        "        if item2 != \"\":\n",
        "            count += 1\n",
        "        if item3 != \"\":\n",
        "            count += 1\n",
        "        if item4 != \"\":\n",
        "            count += 1\n",
        "        if item5 != \"\":\n",
        "            count += 1\n",
        "        print(\"Total items:\", count)\n",
        "\n",
        "    elif choice == \"5\":\n",
        "        print(\"Have a nice day!\")\n",
        "        break\n",
        "\n",
        "    else:\n",
        "        print(\"Invalid choice. Try again.\")\n"
      ]
    }
  ]
}