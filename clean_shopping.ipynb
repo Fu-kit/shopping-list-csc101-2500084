{
  "nbformat": 4,
  "nbformat_minor": 0,
  "metadata": {
    "colab": {
      "provenance": [],
      "authorship_tag": "ABX9TyMcCa02YJJx9MhNZ+O1X3LJ",
      "include_colab_link": true
    },
    "kernelspec": {
      "name": "python3",
      "display_name": "Python 3"
    },
    "language_info": {
      "name": "python"
    }
  },
  "cells": [
    {
      "cell_type": "markdown",
      "metadata": {
        "id": "view-in-github",
        "colab_type": "text"
      },
      "source": [
        "<a href=\"https://colab.research.google.com/github/Fu-kit/shopping-list-csc101-2500084/blob/main/clean_shopping.ipynb\" target=\"_parent\"><img src=\"https://colab.research.google.com/assets/colab-badge.svg\" alt=\"Open In Colab\"/></a>"
      ]
    },
    {
      "cell_type": "code",
      "execution_count": null,
      "metadata": {
        "id": "P1la3K-_DdlA",
        "colab": {
          "base_uri": "https://localhost:8080/"
        },
        "outputId": "619094ee-1f7d-40a3-d006-27fd9ebd1760"
      },
      "outputs": [
        {
          "output_type": "stream",
          "name": "stdout",
          "text": [
            "=== Shopping List Manager ===\n",
            "0 of 6 items in your cart []\n",
            "1. Add item\n",
            "2. Remove item\n",
            "3. Exit\n",
            "Choose option: 1\n",
            "What would you like to add?:  Milk\n",
            "Item added!\n",
            "=== Shopping List Manager ===\n",
            "1 of 6 items in your cart ['Milk']\n",
            "1. Add item\n",
            "2. Remove item\n",
            "3. Exit\n",
            "Choose option: 1\n",
            "What would you like to add?: Milk \n",
            "Item added!\n",
            "=== Shopping List Manager ===\n",
            "2 of 6 items in your cart ['Milk', 'Milk']\n",
            "1. Add item\n",
            "2. Remove item\n",
            "3. Exit\n",
            "Choose option: 2\n",
            "What would you like to remove?: Milk\n",
            "Item removed!\n",
            "=== Shopping List Manager ===\n",
            "1 of 6 items in your cart ['Milk']\n",
            "1. Add item\n",
            "2. Remove item\n",
            "3. Exit\n",
            "Choose option: 2\n",
            "What would you like to remove?: Milk\n",
            "Item removed!\n",
            "=== Shopping List Manager ===\n",
            "0 of 6 items in your cart []\n",
            "1. Add item\n",
            "2. Remove item\n",
            "3. Exit\n"
          ]
        }
      ],
      "source": [
        "# Storage for up to 6 items (empty = \"\")\n",
        "items = []\n",
        "max_items = 6\n",
        "\n",
        "# Keep going until 6 items are added, or user stops\n",
        "while True:\n",
        "    print(\"=== Shopping List Manager ===\")\n",
        "    print(len(items), \"of 6 items in your cart\", items)\n",
        "    print(\"1. Add item\")\n",
        "    print(\"2. Remove item\")\n",
        "    print(\"3. Exit\")\n",
        "\n",
        "    choice = input(\"Choose option: \")\n",
        "\n",
        "\n",
        "# Option 1. Add item\n",
        "    if choice == \"1\":\n",
        "      if len(items) < max_items:\n",
        "        new_item = input(\"What would you like to add?: \").strip()\n",
        "        if new_item == \"\":\n",
        "          print(\"Please enter a valid item.\")\n",
        "        else:\n",
        "          items.append(new_item)\n",
        "          print(\"Item added!\")\n",
        "      else:\n",
        "        print(\"List is full!\")\n",
        "\n",
        "# Option 2. Remove item\n",
        "    elif choice == \"2\":\n",
        "       if len(items)==0:\n",
        "        print(\"List is empty!\")\n",
        "       else:\n",
        "        remove_item = input(\"What would you like to remove?: \").strip()\n",
        "        if remove_item in items:\n",
        "            items.remove(remove_item)\n",
        "            print(\"Item removed!\")\n",
        "        else:\n",
        "            print(\"Item not found!\")\n",
        "\n",
        "# Option 3. Exit\n",
        "    elif choice == \"3\":\n",
        "        print(\"Have a nice day!\")\n",
        "        break\n",
        "\n",
        "# Option choice is invalid\n",
        "    else:\n",
        "        print(\"Invalid choice.\")\n"
      ]
    }
  ]
}