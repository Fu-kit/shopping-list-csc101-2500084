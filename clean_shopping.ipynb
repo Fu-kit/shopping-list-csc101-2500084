{
  "nbformat": 4,
  "nbformat_minor": 0,
  "metadata": {
    "colab": {
      "provenance": [],
      "authorship_tag": "ABX9TyOLJSKgkhJf6Xu5jZQ4IoTV",
      "include_colab_link": true
    },
    "kernelspec": {
      "name": "python3",
      "display_name": "Python 3"
    },
    "language_info": {
      "name": "python"
    }
  },
  "cells": [
    {
      "cell_type": "markdown",
      "metadata": {
        "id": "view-in-github",
        "colab_type": "text"
      },
      "source": [
        "<a href=\"https://colab.research.google.com/github/Fu-kit/shopping-list-csc101-2500084/blob/main/clean_shopping.ipynb\" target=\"_parent\"><img src=\"https://colab.research.google.com/assets/colab-badge.svg\" alt=\"Open In Colab\"/></a>"
      ]
    },
    {
      "cell_type": "code",
      "execution_count": 22,
      "metadata": {
        "id": "P1la3K-_DdlA",
        "colab": {
          "base_uri": "https://localhost:8080/"
        },
        "outputId": "a1278b16-64d6-4b0c-d2ac-7d0613d30bf2"
      },
      "outputs": [
        {
          "output_type": "stream",
          "name": "stdout",
          "text": [
            "=== Shopping List Manager ===\n",
            "0 of 6 items in your cart(  Orange Apple Berry Lemon Rice )\n",
            "1. Add item\n",
            "2. Remove item\n",
            "3. Exit\n",
            "Choose option: 3\n",
            "Have a nice day!\n"
          ]
        }
      ],
      "source": [
        "# Storage for up to 6 items (empty = \"\")\n",
        "items = []\n",
        "count = 0   # start with no items\n",
        "\n",
        "# Keep going until 6 items are added, or user stops\n",
        "while count <= 6:\n",
        "    print(\"=== Shopping List Manager ===\")\n",
        "    print(str(count) + \" of 6 items in your cart(\", item1, item2, item3, item4, item5, item6, \")\")\n",
        "    print(\"1. Add item\")\n",
        "    print(\"2. Remove item\")\n",
        "    print(\"3. Exit\")\n",
        "\n",
        "    choice = input(\"Choose option: \")\n",
        "\n",
        "\n",
        "# Option 1. Add item\n",
        "    if choice == \"1\":\n",
        "        new_item = input(\"What would you like to add?: \")\n",
        "        if item1 == \"\":\n",
        "          item1 = new_item; count += 1; print(\"Item added!\")\n",
        "        elif item2 == \"\":\n",
        "          item2 = new_item; count += 1; print(\"Item added!\")\n",
        "        elif item3 == \"\":\n",
        "          item3 = new_item; count += 1; print(\"Item added!\")\n",
        "        elif item4 == \"\":\n",
        "          item4 = new_item; count += 1; print(\"Item added!\")\n",
        "        elif item5 == \"\":\n",
        "          item5 = new_item; count += 1; print(\"Item added!\")\n",
        "        elif item6 == \"\":\n",
        "          item6 = new_item; count += 1; print(\"Item added!\")\n",
        "        else:\n",
        "          print(\"List is full!\")\n",
        "\n",
        "# Option 2. Remove item\n",
        "    elif choice == \"2\":\n",
        "        remove_item = input(\"What would you like to remove?: \")\n",
        "        if item1 == remove_item:\n",
        "            item1 = \"\"; count -= 1; print(\"Item removed!\")\n",
        "        elif item2 == remove_item:\n",
        "            item2 = \"\"; count -= 1; print(\"Item removed!\")\n",
        "        elif item3 == remove_item:\n",
        "            item3 = \"\"; count -= 1; print(\"Item removed!\")\n",
        "        elif item4 == remove_item:\n",
        "            item4 = \"\"; count -= 1; print(\"Item removed!\")\n",
        "        elif item5 == remove_item:\n",
        "            item5 = \"\"; count -= 1; print(\"Item removed!\")\n",
        "        elif item6 == remove_item:\n",
        "            item6 = \"\"; count -= 1; print(\"Item removed!\")\n",
        "        else:\n",
        "            print(\"Item not found!\")\n",
        "\n",
        "# Option 3. Exit\n",
        "    elif choice == \"3\":\n",
        "        print(\"Have a nice day!\")\n",
        "        break\n",
        "\n",
        "# Option choice is invalid\n",
        "else:\n",
        "    print(\"Invalid choice.\")\n"
      ]
    },
    {
      "cell_type": "code",
      "source": [
        "PRICE_LIST = {\n",
        "    \"Milk\": 3,\n",
        "    \"Orange\": 2,\n",
        "    \"Rice\": 15\n",
        "}\n",
        "\n",
        "item_number = 1  # start counter at 1\n",
        "\n",
        "for name in PRICE_LIST:   # goes through each key (\"Milk\", \"Orange\", \"Rice\")\n",
        "    price = PRICE_LIST[name]\n",
        "    print(f\"{item_number}, {key}, {price} dollar\")\n",
        "    item_number = item_number + 1  # increase by 1\n"
      ],
      "metadata": {
        "colab": {
          "base_uri": "https://localhost:8080/"
        },
        "id": "HqX9kiUBpE2Z",
        "outputId": "85a93272-9e9b-4e58-ddd0-0ad1d692d05c"
      },
      "execution_count": 1,
      "outputs": [
        {
          "output_type": "stream",
          "name": "stdout",
          "text": [
            "1, Milk, 3 dollar\n",
            "2, Orange, 2 dollar\n",
            "3, Rice, 15 dollar\n"
          ]
        }
      ]
    }
  ]
}